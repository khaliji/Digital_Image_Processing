{
  "nbformat": 4,
  "nbformat_minor": 0,
  "metadata": {
    "colab": {
      "name": "C08.ipynb",
      "provenance": [],
      "collapsed_sections": []
    },
    "kernelspec": {
      "display_name": "Python 3",
      "name": "python3"
    }
  },
  "cells": [
    {
      "cell_type": "code",
      "metadata": {
        "id": "xmNslxpZH0Jd"
      },
      "source": [
        "import cv2\n",
        "import numpy as np\n",
        "import matplotlib.pyplot as plt"
      ],
      "execution_count": 1,
      "outputs": []
    },
    {
      "cell_type": "code",
      "metadata": {
        "colab": {
          "base_uri": "https://localhost:8080/",
          "height": 268
        },
        "id": "RCsIh9tlHDGZ",
        "outputId": "76d1fe40-497e-48d5-eaf6-fb4de060bc04"
      },
      "source": [
        "[x, y] = np.meshgrid(np.array(range(-128,128)), np.array(range(-128,128)))\n",
        "D = np.sqrt(x**2 + y**2)\n",
        "H = (D < 30)\n",
        "\n",
        "plt.imshow(H, cmap='gray', vmin=np.min(H), vmax=np.max(H))\n",
        "plt.title('Ideal low pass filter')\n",
        "plt.xticks([]), plt.yticks([])\n",
        "\n",
        "plt.show()"
      ],
      "execution_count": 4,
      "outputs": [
        {
          "output_type": "display_data",
          "data": {
            "image/png": "[encoded data removed]",
            "text/plain": [
              "<Figure size 432x288 with 1 Axes>"
            ]
          },
          "metadata": {
            "tags": []
          }
        }
      ]
    }
  ]
}