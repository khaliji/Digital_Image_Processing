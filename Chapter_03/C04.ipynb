{
  "nbformat": 4,
  "nbformat_minor": 0,
  "metadata": {
    "colab": {
      "name": "C04ipynb",
      "provenance": [],
      "collapsed_sections": []
    },
    "kernelspec": {
      "display_name": "Python 3",
      "name": "python3"
    }
  },
  "cells": [
    {
      "cell_type": "code",
      "metadata": {
        "id": "xmNslxpZH0Jd"
      },
      "source": [
        "import cv2\n",
        "import numpy as np"
      ],
      "execution_count": 1,
      "outputs": []
    },
    {
      "cell_type": "code",
      "metadata": {
        "colab": {
          "base_uri": "https://localhost:8080/"
        },
        "id": "RCsIh9tlHDGZ",
        "outputId": "0e711c63-0f14-4c18-e3a7-c44c6bd17d6d"
      },
      "source": [
        "x = np.array([1, 2, 3, 4])\n",
        "AF = np.fft.fft(x)\n",
        "x1 = np.array([1, 2, 3, 4] * ((-1)**np.array(range(0, 4))))\n",
        "AF1 = np.fft.fft(x1)\n",
        "\n",
        "print ('x= \\n{}\\n'.format(x))\n",
        "print ('AF= \\n{}\\n'.format(AF))\n",
        "print ('x1= \\n{}\\n'.format(x1))\n",
        "print ('AF1= \\n{}'.format(AF1))"
      ],
      "execution_count": 10,
      "outputs": [
        {
          "output_type": "stream",
          "text": [
            "x= \n",
            "[1 2 3 4]\n",
            "\n",
            "AF= \n",
            "[10.+0.j -2.+2.j -2.+0.j -2.-2.j]\n",
            "\n",
            "x1= \n",
            "[ 1 -2  3 -4]\n",
            "\n",
            "AF1= \n",
            "[-2.+0.j -2.-2.j 10.+0.j -2.+2.j]\n"
          ],
          "name": "stdout"
        }
      ]
    }
  ]
}