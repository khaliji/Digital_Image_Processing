{
  "nbformat": 4,
  "nbformat_minor": 0,
  "metadata": {
    "colab": {
      "name": "C01.ipynb",
      "provenance": [],
      "collapsed_sections": []
    },
    "kernelspec": {
      "display_name": "Python 3",
      "name": "python3"
    }
  },
  "cells": [
    {
      "cell_type": "code",
      "metadata": {
        "id": "xmNslxpZH0Jd"
      },
      "source": [
        "import cv2\n",
        "import numpy as np"
      ],
      "execution_count": 1,
      "outputs": []
    },
    {
      "cell_type": "code",
      "metadata": {
        "colab": {
          "base_uri": "https://localhost:8080/"
        },
        "id": "RCsIh9tlHDGZ",
        "outputId": "94cf5993-a6d3-4fb7-f4a5-b81ba95a5c91"
      },
      "source": [
        "A = [1, 2, 3, 4, 5]\n",
        "AF1 = np.fft.fft(A)\n",
        "AF2 = np.fft.fft(A, 8)\n",
        "\n",
        "print(AF1)\n",
        "print(AF2)"
      ],
      "execution_count": 2,
      "outputs": [
        {
          "output_type": "stream",
          "text": [
            "[15. +0.j         -2.5+3.4409548j  -2.5+0.81229924j -2.5-0.81229924j\n",
            " -2.5-3.4409548j ]\n",
            "[15.        +0.j         -5.41421356-7.24264069j  3.        +2.j\n",
            " -2.58578644-1.24264069j  3.        +0.j         -2.58578644+1.24264069j\n",
            "  3.        -2.j         -5.41421356+7.24264069j]\n"
          ],
          "name": "stdout"
        }
      ]
    }
  ]
}