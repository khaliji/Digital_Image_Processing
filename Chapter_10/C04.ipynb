{
  "nbformat": 4,
  "nbformat_minor": 0,
  "metadata": {
    "colab": {
      "name": "C04.ipynb",
      "provenance": [],
      "collapsed_sections": []
    },
    "kernelspec": {
      "display_name": "Python 3",
      "name": "python3"
    }
  },
  "cells": [
    {
      "cell_type": "code",
      "metadata": {
        "id": "xmNslxpZH0Jd"
      },
      "source": [
        "import cv2\n",
        "import numpy as np\n",
        "from matplotlib import pyplot as plt"
      ],
      "execution_count": 26,
      "outputs": []
    },
    {
      "cell_type": "code",
      "metadata": {
        "colab": {
          "base_uri": "https://localhost:8080/",
          "height": 187
        },
        "id": "RCsIh9tlHDGZ",
        "outputId": "8f55d874-0c21-43e7-ff48-d6dcafcbf718"
      },
      "source": [
        "img = cv2.imread(filename=\"test.png\", flags=cv2.IMREAD_GRAYSCALE)\n",
        "thresh_val, thresh_result = cv2.threshold(src=img, thresh=100, maxval=255, type=cv2.THRESH_BINARY)\n",
        "\n",
        "\n",
        "# kernel\n",
        "kernel = cv2.getStructuringElement(shape=cv2.MORPH_RECT, ksize=(5,5))\n",
        "erosion = cv2.erode(thresh_result,kernel,iterations = 1)\n",
        "opening = cv2.morphologyEx(thresh_result, cv2.MORPH_OPEN, kernel)\n",
        "\n",
        "fig, axes = plt.subplots(1,3, figsize=(15,5))\n",
        "axes[0].imshow(thresh_result, 'gray')\n",
        "axes[0].set_title(\"binary\")\n",
        "\n",
        "axes[1].imshow(erosion, cmap='gray')\n",
        "axes[1].set_title(\"erosion\")\n",
        "\n",
        "axes[2].imshow(opening, 'gray')\n",
        "axes[2].set_title(\"opening\")\n",
        "\n",
        "for ax in axes.ravel():\n",
        "    ax.set_xticks([])\n",
        "    ax.set_yticks([])\n",
        "\n",
        "plt.show()"
      ],
      "execution_count": 111,
      "outputs": [
        {
          "output_type": "display_data",
          "data": {
            "image/png": "[encoded data removed]",
            "text/plain": [
              "<Figure size 1080x360 with 3 Axes>"
            ]
          },
          "metadata": {
            "tags": []
          }
        }
      ]
    }
  ]
}