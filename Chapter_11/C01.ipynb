{
  "nbformat": 4,
  "nbformat_minor": 0,
  "metadata": {
    "colab": {
      "name": "C01.ipynb",
      "provenance": [],
      "collapsed_sections": []
    },
    "kernelspec": {
      "display_name": "Python 3",
      "name": "python3"
    }
  },
  "cells": [
    {
      "cell_type": "code",
      "metadata": {
        "id": "xmNslxpZH0Jd"
      },
      "source": [
        "from PIL import Image"
      ],
      "execution_count": 24,
      "outputs": []
    },
    {
      "cell_type": "code",
      "metadata": {
        "colab": {
          "base_uri": "https://localhost:8080/"
        },
        "id": "RCsIh9tlHDGZ",
        "outputId": "33cb09e1-25d7-4b54-a75b-024974b1571f"
      },
      "source": [
        "# Opening Image as an object\n",
        "Img = Image.open(\"azadi_tower.jpg\")\n",
        "# Getting the filename of image\n",
        "print(\"Filename : \",Img.filename)\n",
        "# Getting the format of image\n",
        "print(\"Format : \",Img.format)\n",
        "# Getting the mode of image\n",
        "print(\"Mode : \",Img.mode)\n",
        "# Getting the size of image\n",
        "print(\"Size : \",Img.size)\n",
        "# Getting only the width of image\n",
        "print(\"Width : \",Img.width)\n",
        "# Getting only the height of image\n",
        "print(\"Height : \",Img.height)\n",
        "# Getting the color palette of image\n",
        "print(\"Image Palette : \",Img.palette)\n",
        "# Closing Image object\n",
        "print(\"Image bit depth : \", Img.bits)\n",
        "Img.close()"
      ],
      "execution_count": 27,
      "outputs": [
        {
          "output_type": "stream",
          "text": [
            "Filename :  azadi_tower.jpg\n",
            "Format :  JPEG\n",
            "Mode :  RGB\n",
            "Size :  (278, 180)\n",
            "Width :  278\n",
            "Height :  180\n",
            "Image Palette :  None\n",
            "Image bit depth :  8\n"
          ],
          "name": "stdout"
        }
      ]
    }
  ]
}