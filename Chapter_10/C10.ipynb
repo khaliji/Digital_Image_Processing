{
  "nbformat": 4,
  "nbformat_minor": 0,
  "metadata": {
    "colab": {
      "name": "C10.ipynb",
      "provenance": [],
      "collapsed_sections": []
    },
    "kernelspec": {
      "display_name": "Python 3",
      "name": "python3"
    }
  },
  "cells": [
    {
      "cell_type": "code",
      "metadata": {
        "id": "xmNslxpZH0Jd"
      },
      "source": [
        "import cv2\n",
        "import numpy as np\n",
        "from matplotlib import pyplot as plt"
      ],
      "execution_count": 2,
      "outputs": []
    },
    {
      "cell_type": "code",
      "metadata": {
        "colab": {
          "base_uri": "https://localhost:8080/",
          "height": 235
        },
        "id": "RCsIh9tlHDGZ",
        "outputId": "3022d0b6-a7e1-4c4e-bd05-cb30d2fd3fa4"
      },
      "source": [
        "A = cv2.imread(filename=\"region.png\", flags=cv2.IMREAD_GRAYSCALE)\n",
        "thresh_val, A = cv2.threshold(src=A, thresh=100, maxval=255, type=cv2.THRESH_BINARY)\n",
        "A = np.array(cv2.normalize(A.astype('uint8'), None, 0, 1, cv2.NORM_MINMAX))\n",
        "\n",
        "# kernel\n",
        "B = cv2.getStructuringElement(shape=cv2.MORPH_CROSS, ksize=(3,3))\n",
        "\n",
        "P = [70,120]\n",
        "\n",
        "# X_current means Xn\n",
        "X_current = np.zeros(A.shape)\n",
        "\n",
        "# X_last means Xn-1\n",
        "# At first all the pixels of X_last are zero\n",
        "# expect one pixel P\n",
        "X_last = np.zeros(A.shape)\n",
        "X_last[P[0],P[1]] = 1\n",
        "\n",
        "X_current = np.uint8(cv2.dilate(X_last, B ,iterations = 1)) & (~A)\n",
        "\n",
        "while np.any(X_current != X_last):\n",
        "    X_last = X_current\n",
        "    X_current = np.uint8(cv2.dilate(X_last, B ,iterations = 1)) & (~A)\n",
        "\n",
        "result = X_current\n",
        "final = result|A\n",
        "\n",
        "fig, axes = plt.subplots(1,3, figsize=(15,8))\n",
        "axes[0].imshow(A, cmap='gray')\n",
        "axes[0].set_title(\"original image\")\n",
        "\n",
        "axes[1].imshow(result, 'gray')\n",
        "axes[1].set_title(\"result\")\n",
        "\n",
        "axes[2].imshow(final, 'gray')\n",
        "axes[2].set_title(\"final\")\n",
        "\n",
        "for ax in axes.ravel():\n",
        "    ax.set_xticks([])\n",
        "    ax.set_yticks([])\n",
        "\n",
        "plt.show()\n"
      ],
      "execution_count": 4,
      "outputs": [
        {
          "output_type": "display_data",
          "data": {
            "image/png": "[encoded data removed]",
            "text/plain": [
              "<Figure size 1080x576 with 3 Axes>"
            ]
          },
          "metadata": {
            "tags": []
          }
        }
      ]
    }
  ]
}