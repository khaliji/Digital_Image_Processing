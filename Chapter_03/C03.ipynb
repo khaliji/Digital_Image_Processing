{
  "nbformat": 4,
  "nbformat_minor": 0,
  "metadata": {
    "colab": {
      "name": "C03ipynb",
      "provenance": [],
      "collapsed_sections": []
    },
    "kernelspec": {
      "display_name": "Python 3",
      "name": "python3"
    }
  },
  "cells": [
    {
      "cell_type": "code",
      "metadata": {
        "id": "xmNslxpZH0Jd"
      },
      "source": [
        "import cv2\n",
        "import numpy as np"
      ],
      "execution_count": 1,
      "outputs": []
    },
    {
      "cell_type": "code",
      "metadata": {
        "colab": {
          "base_uri": "https://localhost:8080/"
        },
        "id": "RCsIh9tlHDGZ",
        "outputId": "518baff7-afdd-49d4-db60-1bd5fbee361a"
      },
      "source": [
        "img = np.array([\n",
        "    [1, 2, 3],\n",
        "    [4, 5, 6],\n",
        "    [7, 8, 9]])\n",
        "imgF1 = np.fft.fft2(img)\n",
        "imgF2 = np.fft.fft2(img, (5, 4))\n",
        "\n",
        "print ('img= \\n{}\\n'.format(img))\n",
        "print ('imgF1= \\n{}\\n'.format(imgF1))\n",
        "print ('imgF2= \\n{}'.format(imgF2))"
      ],
      "execution_count": 9,
      "outputs": [
        {
          "output_type": "stream",
          "text": [
            "img= \n",
            "[[1 2 3]\n",
            " [4 5 6]\n",
            " [7 8 9]]\n",
            "\n",
            "imgF1= \n",
            "[[ 45. +0.j          -4.5+2.59807621j  -4.5-2.59807621j]\n",
            " [-13.5+7.79422863j   0. +0.j           0. +0.j        ]\n",
            " [-13.5-7.79422863j   0. +0.j           0. +0.j        ]]\n",
            "\n",
            "imgF2= \n",
            "[[ 45.         +0.j          -6.        -15.j\n",
            "   15.         +0.j          -6.        +15.j        ]\n",
            " [ -8.78115295-28.3726938j  -10.4575646  +6.00473452j\n",
            "   -2.92705098 -9.4575646j    8.4575646  +0.15063255j]\n",
            " [  1.28115295+14.00857761j   3.66952587 -1.15359351j\n",
            "    0.42705098 +4.66952587j  -5.66952587 -0.29949154j]\n",
            " [  1.28115295-14.00857761j  -5.66952587 +0.29949154j\n",
            "    0.42705098 -4.66952587j   3.66952587 +1.15359351j]\n",
            " [ -8.78115295+28.3726938j    8.4575646  -0.15063255j\n",
            "   -2.92705098 +9.4575646j  -10.4575646  -6.00473452j]]\n"
          ],
          "name": "stdout"
        }
      ]
    }
  ]
}