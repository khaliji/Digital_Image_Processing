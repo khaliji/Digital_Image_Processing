{
  "nbformat": 4,
  "nbformat_minor": 0,
  "metadata": {
    "colab": {
      "name": "C02.ipynb",
      "provenance": [],
      "collapsed_sections": []
    },
    "kernelspec": {
      "display_name": "Python 3",
      "name": "python3"
    }
  },
  "cells": [
    {
      "cell_type": "code",
      "metadata": {
        "id": "xmNslxpZH0Jd"
      },
      "source": [
        "import cv2\n",
        "import numpy as np"
      ],
      "execution_count": 1,
      "outputs": []
    },
    {
      "cell_type": "code",
      "metadata": {
        "colab": {
          "base_uri": "https://localhost:8080/"
        },
        "id": "RCsIh9tlHDGZ",
        "outputId": "0dc7e3c2-3a7b-4c67-b428-2a1ec5713530"
      },
      "source": [
        "A = np.array([1, 2, 3, 4, 5])\n",
        "AF1 = np.fft.fft(A)\n",
        "\n",
        "a = np.abs(AF1)\n",
        "t = np.angle(AF1)\n",
        "deg=np.rad2deg(t)\n",
        "\n",
        "print ('a= {}'.format(a))\n",
        "print ('t= {}'.format(t))\n",
        "print ('deg= {}'.format(deg))"
      ],
      "execution_count": 6,
      "outputs": [
        {
          "output_type": "stream",
          "text": [
            "a= [15.          4.25325404  2.62865556  2.62865556  4.25325404]\n",
            "t= [ 0.          2.19911486  2.82743339 -2.82743339 -2.19911486]\n",
            "deg= [   0.  126.  162. -162. -126.]\n"
          ],
          "name": "stdout"
        }
      ]
    }
  ]
}