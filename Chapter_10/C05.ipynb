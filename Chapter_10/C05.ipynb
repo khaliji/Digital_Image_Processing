{
  "nbformat": 4,
  "nbformat_minor": 0,
  "metadata": {
    "colab": {
      "name": "C05.ipynb",
      "provenance": [],
      "collapsed_sections": []
    },
    "kernelspec": {
      "display_name": "Python 3",
      "name": "python3"
    }
  },
  "cells": [
    {
      "cell_type": "code",
      "metadata": {
        "id": "xmNslxpZH0Jd"
      },
      "source": [
        "import cv2\n",
        "import numpy as np\n",
        "from matplotlib import pyplot as plt"
      ],
      "execution_count": 1,
      "outputs": []
    },
    {
      "cell_type": "code",
      "metadata": {
        "colab": {
          "base_uri": "https://localhost:8080/",
          "height": 199
        },
        "id": "RCsIh9tlHDGZ",
        "outputId": "008e7b18-5c27-409f-f287-873bdd439753"
      },
      "source": [
        "img = cv2.imread(filename=\"test.png\", flags=cv2.IMREAD_GRAYSCALE)\n",
        "thresh_val, thresh_result = cv2.threshold(src=img, thresh=100, maxval=255, type=cv2.THRESH_BINARY)\n",
        "\n",
        "# kernel\n",
        "kernel = cv2.getStructuringElement(shape=cv2.MORPH_RECT, ksize=(5,5))\n",
        "dilation = cv2.dilate(thresh_result,kernel,iterations = 1)\n",
        "closing = cv2.morphologyEx(thresh_result, cv2.MORPH_CLOSE, kernel)\n",
        "\n",
        "fig, axes = plt.subplots(1,3, figsize=(18,8))\n",
        "axes[0].imshow(thresh_result, 'gray')\n",
        "axes[0].set_title(\"binary\")\n",
        "\n",
        "axes[1].imshow(dilation, cmap='gray')\n",
        "axes[1].set_title(\"dilation\")\n",
        "\n",
        "axes[2].imshow(closing, 'gray')\n",
        "axes[2].set_title(\"closing\")\n",
        "\n",
        "for ax in axes.ravel():\n",
        "    ax.set_xticks([])\n",
        "    ax.set_yticks([])\n",
        "\n",
        "plt.show()"
      ],
      "execution_count": 2,
      "outputs": [
        {
          "output_type": "display_data",
          "data": {
            "image/png": "[encoded data removed]",
            "text/plain": [
              "<Figure size 1296x576 with 3 Axes>"
            ]
          },
          "metadata": {
            "tags": []
          }
        }
      ]
    }
  ]
}