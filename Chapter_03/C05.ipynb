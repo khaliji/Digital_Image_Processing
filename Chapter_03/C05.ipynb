{
  "nbformat": 4,
  "nbformat_minor": 0,
  "metadata": {
    "colab": {
      "name": "C05ipynb",
      "provenance": [],
      "collapsed_sections": []
    },
    "kernelspec": {
      "display_name": "Python 3",
      "name": "python3"
    }
  },
  "cells": [
    {
      "cell_type": "code",
      "metadata": {
        "id": "xmNslxpZH0Jd"
      },
      "source": [
        "import cv2\n",
        "import numpy as np"
      ],
      "execution_count": 1,
      "outputs": []
    },
    {
      "cell_type": "code",
      "metadata": {
        "colab": {
          "base_uri": "https://localhost:8080/"
        },
        "id": "RCsIh9tlHDGZ",
        "outputId": "07ec3c45-24ba-48ab-c251-9e08b2fc6826"
      },
      "source": [
        "x = np.array([1, 2, 3, 4])\n",
        "AF = np.fft.fft(x)\n",
        "AF_shift = np.fft.fftshift(AF)\n",
        "\n",
        "print ('x= \\n{}\\n'.format(x))\n",
        "print ('AF= \\n{}\\n'.format(AF))\n",
        "print ('AF_shift= \\n{}'.format(AF_shift))"
      ],
      "execution_count": 2,
      "outputs": [
        {
          "output_type": "stream",
          "text": [
            "x= \n",
            "[1 2 3 4]\n",
            "\n",
            "AF= \n",
            "[10.+0.j -2.+2.j -2.+0.j -2.-2.j]\n",
            "\n",
            "AF_shift= \n",
            "[-2.+0.j -2.-2.j 10.+0.j -2.+2.j]\n"
          ],
          "name": "stdout"
        }
      ]
    }
  ]
}