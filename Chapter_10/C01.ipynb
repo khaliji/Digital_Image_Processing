{
  "nbformat": 4,
  "nbformat_minor": 0,
  "metadata": {
    "colab": {
      "name": "C01.ipynb",
      "provenance": [],
      "collapsed_sections": []
    },
    "kernelspec": {
      "display_name": "Python 3",
      "name": "python3"
    }
  },
  "cells": [
    {
      "cell_type": "code",
      "metadata": {
        "id": "xmNslxpZH0Jd"
      },
      "source": [
        "import cv2\n",
        "import numpy as np\n",
        "from matplotlib import pyplot as plt"
      ],
      "execution_count": 26,
      "outputs": []
    },
    {
      "cell_type": "code",
      "metadata": {
        "colab": {
          "base_uri": "https://localhost:8080/",
          "height": 215
        },
        "id": "RCsIh9tlHDGZ",
        "outputId": "89da0336-a161-4dc9-d9b9-75cc49fc3018"
      },
      "source": [
        "# disk with radius 2\n",
        "SE1 = cv2.getStructuringElement(shape=cv2.MORPH_ELLIPSE, ksize=(3,3))\n",
        "# square\n",
        "SE2 = cv2.getStructuringElement(shape=cv2.MORPH_RECT, ksize=(3,3))\n",
        "# cross_shape\n",
        "SE3 = np.array([[0,1,0],[1,1,1],[0,1,0]])\n",
        "# SE3 = cv2.getStructuringElement(shape=cv2.MORPH_CROSS, ksize=(3,3))\n",
        "\n",
        "fig, axes= plt.subplots(1, 3, figsize=(10, 8))\n",
        "axes[0].imshow(SE1, cmap='gray')\n",
        "axes[0].set_title('disk with radius 2')\n",
        "\n",
        "axes[1].imshow(SE2, cmap='gray')\n",
        "axes[1].set_title('square')\n",
        "\n",
        "axes[2].imshow(SE3, cmap='gray')\n",
        "axes[2].set_title('cross_shape')\n",
        "\n",
        "for ax in axes.ravel():\n",
        "    ax.set_xticks([])\n",
        "    ax.set_yticks([])\n",
        "\n",
        "plt.show()"
      ],
      "execution_count": 36,
      "outputs": [
        {
          "output_type": "display_data",
          "data": {
            "image/png": "[encoded data removed]",
            "text/plain": [
              "<Figure size 720x576 with 3 Axes>"
            ]
          },
          "metadata": {
            "tags": []
          }
        }
      ]
    }
  ]
}