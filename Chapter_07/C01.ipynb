{
  "nbformat": 4,
  "nbformat_minor": 0,
  "metadata": {
    "colab": {
      "name": "C01.ipynb",
      "provenance": [],
      "collapsed_sections": []
    },
    "kernelspec": {
      "display_name": "Python 3",
      "name": "python3"
    }
  },
  "cells": [
    {
      "cell_type": "code",
      "metadata": {
        "id": "xmNslxpZH0Jd"
      },
      "source": [
        "from os.path import dirname, join as pjoin\n",
        "from scipy.io import wavfile\n",
        "import scipy.io\n",
        "\n",
        "import pywt\n",
        "import matplotlib.pyplot as plt"
      ],
      "execution_count": 12,
      "outputs": []
    },
    {
      "cell_type": "code",
      "metadata": {
        "id": "RCsIh9tlHDGZ"
      },
      "source": [
        "data_dir = pjoin(dirname(scipy.io.__file__), 'tests', 'data')\n",
        "wav_fname = pjoin(data_dir, 'test-44100Hz-2ch-32bit-float-be.wav')\n",
        "\n",
        "wn = 'sym4'\n",
        "[fs, S] = wavfile.read(wav_fname)\n",
        "[CA, CD] = pywt.dwt(S, wn)\n",
        "Res = pywt.idwt(CA, CD, wn)"
      ],
      "execution_count": 14,
      "outputs": []
    }
  ]
}